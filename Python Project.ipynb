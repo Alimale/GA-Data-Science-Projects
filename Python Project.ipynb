{
 "cells": [
  {
   "cell_type": "markdown",
   "metadata": {},
   "source": [
    "<img src=\"http://imgur.com/1ZcRyrc.png\" style=\"float: left; margin: 20px; height: 55px\">\n",
    "\n",
    "# Project 1: Python Coding Exercises\n",
    "\n",
    "_Authors: Joseph Nelson (DC) _\n",
    "\n",
    "---"
   ]
  },
  {
   "cell_type": "markdown",
   "metadata": {},
   "source": [
    "The following code challenges are drawn from common exercises used in technical interviews.\n",
    "\n",
    "Please note that there may be several ways to approach each challenge. If you get stuck, try mapping out your approach in pseudocode first. Finally, while solutions to problems like these may be found online, remember that if you copy/paste code that you can't explain, you'll be missing out on the point of the project. The only way to truly learn a new skill is through practice, trial, and error - we can only help you improve by understanding where you are having trouble."
   ]
  },
  {
   "cell_type": "markdown",
   "metadata": {},
   "source": [
    "Challenge 1: Largest Palindrome\n",
    "A palindromic number reads the same both ways. For example, 1234321 is a palindrome. The largest palindrome made from the product of two two-digit numbers is 9009 = 91 × 99. Find the largest palindrome made from the product of two three-digit numbers. Afterward, write a brief explanation walking through your code's logic in markdown."
   ]
  },
  {
   "cell_type": "code",
   "execution_count": 6,
   "metadata": {},
   "outputs": [
    {
     "name": "stdout",
     "output_type": "stream",
     "text": [
      "906609\n"
     ]
    }
   ],
   "source": [
    "palindro_mic=100                   # gives an initial value to palindromic variable\n",
    "for i in range(100,1000):          #sweeps from 100 to 999 as the first 3 digits number\n",
    "    for j in range(100,1000):      #sweeps from 100 to 999 as the second 3 digits number\n",
    "        x=i*j    \n",
    "        str_x=str(x)               #converts the result of the multiplicaiton of the two 3 digits numbers to a string\n",
    "        inverse_str_x=str_x[::-1] \n",
    "                                   #inverses the order of string componenets! \n",
    "        if str_x==inverse_str_x and x>palindro_mic: #if the inverted one is equal to the original one then its a palidromic!\n",
    "            palindro_mic=x         \n",
    "                                   #chooses the largest palindromic number resulting from the multiplicaiton of i and j  \n",
    "print(palindro_mic)"
   ]
  },
  {
   "cell_type": "markdown",
   "metadata": {},
   "source": [
    "\n",
    "### Challenge 2: Summation of Primes\n",
    "The sum of the primes below 10 is 2 + 3 + 5 + 7 = 17. Find the sum of all the primes below 2,000. Afterward, write a brief explanation walking through your code's logic in markdown."
   ]
  },
  {
   "cell_type": "code",
   "execution_count": 30,
   "metadata": {},
   "outputs": [
    {
     "name": "stdout",
     "output_type": "stream",
     "text": [
      "277050\n"
     ]
    }
   ],
   "source": [
    "Sum_of_Primes=2\n",
    "                                 # 2 is already included in the summation \n",
    "for i in range(3,2000):          # as 2 is included in the summaiton, it starts sweeping numbers between 3 and 2000\n",
    "    t=1                          # t is a counter here to count how many times the numbers is not divisible by numbers below it!\n",
    "    for j in range (2,i):        # j sweeps all numbers belwo i starting from 2 as all numbers are divisible by 1!\n",
    "        if i%j==0:               # if the number is divisible by any number smaller thatn it then its not a prime number\n",
    "            Sum_of_Primes+=0     # then its not added to the sum of the prime numbers! which means adding zero!\n",
    "        elif i%j!=0:             # to ensure that the program checks the indivisibility of the number to all numbers smaller thatn it\n",
    "            t+=1                 # t counter counts how many times it was indivisible \n",
    "            if t==i-1:           # if for all numbers smaller thatn i its indivisible then recognises i as a prime number \n",
    "                Sum_of_Primes+=i # adds the prime number to the sum!\n",
    "print(Sum_of_Primes)\n",
    "        "
   ]
  },
  {
   "cell_type": "markdown",
   "metadata": {},
   "source": [
    "### Challenge 3: Multiples of 3 and 5\n",
    "If we list all of the natural numbers below 10 that are multiples of 3 or 5, we get 3, 5, 6, and 9. The sum of these multiples is 23. Find the sum of all the multiples of 3 and 5 below 1,000. Afterward, write a brief explanation walking through your code's logic in markdown."
   ]
  },
  {
   "cell_type": "code",
   "execution_count": 16,
   "metadata": {},
   "outputs": [
    {
     "name": "stdout",
     "output_type": "stream",
     "text": [
      "234168\n"
     ]
    }
   ],
   "source": [
    "Sum=0\n",
    "for i in range(1,1001):    \n",
    "    if i%3==0:\n",
    "        Sum+=i         #first checks if its divisible by 3 then adds them to sum\n",
    "    elif i%5==0:       #then checks if its divisible by 5 then adds them to sum\n",
    "        Sum+=i         \n",
    "print(Sum)"
   ]
  },
  {
   "cell_type": "markdown",
   "metadata": {},
   "source": [
    "### Challenge 4: String Compressor\n",
    "Implement a method to perform basic string compression using the counts of repeated characters. (This is called run-length encoding.) For example, the string \"aabcccccaaa\" would become a2b1c5a3. If the “compressed” string would not become smaller than the original string, your method should return the original string. You can assume the string has only uppercase and lowercase letters (a–z). Specify whether your solution is case sensitive or case insensitive and what you would need to change to make it the other. Afterward, write a brief explanation walking through your code's logic in markdown."
   ]
  },
  {
   "cell_type": "code",
   "execution_count": 22,
   "metadata": {},
   "outputs": [
    {
     "name": "stdout",
     "output_type": "stream",
     "text": [
      "a1f2y3h3\n"
     ]
    }
   ],
   "source": [
    "def run_length_encoding(str_par):\n",
    "    i=len(str_par)                                     #first measures the length of the string for the for loop!\n",
    "    s=list(str_par)                                       \n",
    "    ss=len(s)                                          #then splits the given string and puts the characters in a list\n",
    "    n=1                                                      \n",
    "    runlength_encoded=[]\n",
    "    \n",
    "    for t in range(0,i):                               # by this for loop, it compares each character of the created \n",
    "        if t!=i-1:                                     # with its next character and if the same adds 1 unit to the counter n\n",
    "            if s[t]==s[t+1]:\n",
    "               n+=1\n",
    "            else:\n",
    "                runlength_encoded.append(s[t]+str(n))  # if not equal to the next character it puts that character to \n",
    "                n=1\n",
    "        elif s[t-1]==s[t]:                             # a new list together with counter n\n",
    "            runlength_encoded.append(s[t]+str(n))\n",
    "        else:\n",
    "            runlength_encoded.append(s[t]+str(1))\n",
    "                                                                 \n",
    "    u=''.join(runlength_encoded)                       # at the end again joins the characters of the new list to make a string\n",
    "    print(u)\n",
    "          \n",
    "run_length_encoding(\"affyyyhhh\")\n",
    "    "
   ]
  },
  {
   "cell_type": "markdown",
   "metadata": {},
   "source": [
    "### *BONUS* Challenge: FizzBuzz\n",
    "Write a program that prints all of the numbers from 1 to 100. For multiples of 3, instead of the number, print \"Fizz;\" for multiples of 5, print \"Buzz.\" For numbers that are multiples of both 3 and 5, print \"FizzBuzz.\" Afterward, write a brief explanation walking through your code's logic in markdown."
   ]
  },
  {
   "cell_type": "code",
   "execution_count": 1,
   "metadata": {},
   "outputs": [
    {
     "name": "stdout",
     "output_type": "stream",
     "text": [
      "1\n",
      "2\n",
      "Fizz\n",
      "4\n",
      "Buzz\n",
      "Fizz\n",
      "7\n",
      "8\n",
      "Fizz\n",
      "Buzz\n",
      "11\n",
      "Fizz\n",
      "13\n",
      "14\n",
      "Fizzbuzz\n",
      "16\n",
      "17\n",
      "Fizz\n",
      "19\n",
      "Buzz\n",
      "Fizz\n",
      "22\n",
      "23\n",
      "Fizz\n",
      "Buzz\n",
      "26\n",
      "Fizz\n",
      "28\n",
      "29\n",
      "Fizzbuzz\n",
      "31\n",
      "32\n",
      "Fizz\n",
      "34\n",
      "Buzz\n",
      "Fizz\n",
      "37\n",
      "38\n",
      "Fizz\n",
      "Buzz\n",
      "41\n",
      "Fizz\n",
      "43\n",
      "44\n",
      "Fizzbuzz\n",
      "46\n",
      "47\n",
      "Fizz\n",
      "49\n",
      "Buzz\n",
      "Fizz\n",
      "52\n",
      "53\n",
      "Fizz\n",
      "Buzz\n",
      "56\n",
      "Fizz\n",
      "58\n",
      "59\n",
      "Fizzbuzz\n",
      "61\n",
      "62\n",
      "Fizz\n",
      "64\n",
      "Buzz\n",
      "Fizz\n",
      "67\n",
      "68\n",
      "Fizz\n",
      "Buzz\n",
      "71\n",
      "Fizz\n",
      "73\n",
      "74\n",
      "Fizzbuzz\n",
      "76\n",
      "77\n",
      "Fizz\n",
      "79\n",
      "Buzz\n",
      "Fizz\n",
      "82\n",
      "83\n",
      "Fizz\n",
      "Buzz\n",
      "86\n",
      "Fizz\n",
      "88\n",
      "89\n",
      "Fizzbuzz\n",
      "91\n",
      "92\n",
      "Fizz\n",
      "94\n",
      "Buzz\n",
      "Fizz\n",
      "97\n",
      "98\n",
      "Fizz\n",
      "Buzz\n"
     ]
    }
   ],
   "source": [
    "for i in range(1,101):\n",
    "    if (i%3==0) and (i%5==0):\n",
    "        print ('Fizzbuzz')\n",
    "    elif i%3==0:\n",
    "            print ('Fizz')\n",
    "    elif i%5==0:\n",
    "            print ('Buzz')\n",
    "    else:\n",
    "        print (i)\n",
    "            "
   ]
  }
 ],
 "metadata": {
  "anaconda-cloud": {},
  "kernelspec": {
   "display_name": "Python 3 (ipykernel)",
   "language": "python",
   "name": "python3"
  },
  "language_info": {
   "codemirror_mode": {
    "name": "ipython",
    "version": 3
   },
   "file_extension": ".py",
   "mimetype": "text/x-python",
   "name": "python",
   "nbconvert_exporter": "python",
   "pygments_lexer": "ipython3",
   "version": "3.9.12"
  }
 },
 "nbformat": 4,
 "nbformat_minor": 2
}
